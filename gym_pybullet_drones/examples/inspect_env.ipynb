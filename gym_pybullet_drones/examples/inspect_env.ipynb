{
 "cells": [
  {
   "cell_type": "code",
   "metadata": {
    "collapsed": true,
    "ExecuteTime": {
     "end_time": "2024-07-04T21:10:15.031581Z",
     "start_time": "2024-07-04T21:10:14.757419Z"
    }
   },
   "source": [
    "import numpy as np\n",
    "\n",
    "from gym_pybullet_drones.utils.Logger import Logger\n",
    "from gym_pybullet_drones.envs.single_agent_rl.HoverAviary import HoverAviary\n",
    "from gym_pybullet_drones.utils.utils import sync, str2bool"
   ],
   "execution_count": 1,
   "outputs": []
  },
  {
   "cell_type": "code",
   "source": [
    "import gymnasium as gym\n",
    "env = gym.make('hover-aviary-v0')\n",
    "env.reset()"
   ],
   "metadata": {
    "collapsed": false,
    "ExecuteTime": {
     "end_time": "2024-07-04T21:10:16.231370Z",
     "start_time": "2024-07-04T21:10:16.185248Z"
    }
   },
   "execution_count": 2,
   "outputs": []
  },
  {
   "cell_type": "code",
   "source": "env.pos_hist",
   "metadata": {
    "collapsed": false,
    "ExecuteTime": {
     "end_time": "2024-07-04T21:10:19.402004Z",
     "start_time": "2024-07-04T21:10:19.390528Z"
    }
   },
   "execution_count": 3,
   "outputs": []
  },
  {
   "cell_type": "code",
   "source": "obs, info = env.reset()",
   "metadata": {
    "collapsed": false,
    "ExecuteTime": {
     "end_time": "2024-07-04T21:38:13.866356Z",
     "start_time": "2024-07-04T21:38:13.847093Z"
    }
   },
   "execution_count": 5,
   "outputs": []
  },
  {
   "metadata": {
    "ExecuteTime": {
     "end_time": "2024-07-04T21:38:21.874162Z",
     "start_time": "2024-07-04T21:38:21.869634Z"
    }
   },
   "cell_type": "code",
   "source": "obs[3:7]",
   "execution_count": 19,
   "outputs": []
  },
  {
   "metadata": {
    "ExecuteTime": {
     "end_time": "2024-07-04T21:38:40.544349Z",
     "start_time": "2024-07-04T21:38:40.539423Z"
    }
   },
   "cell_type": "code",
   "source": [
    "from scipy.spatial.transform import Rotation\n",
    "Rotation.from_quat([1, 0, 0, 0]).as_euler(\"XYZ\")"
   ],
   "execution_count": 29,
   "outputs": []
  },
  {
   "metadata": {
    "ExecuteTime": {
     "end_time": "2024-07-04T19:42:30.418600Z",
     "start_time": "2024-07-04T19:42:30.413683Z"
    }
   },
   "cell_type": "code",
   "source": "obs[7:10]",
   "execution_count": 12,
   "outputs": []
  },
  {
   "cell_type": "markdown",
   "source": [
    "# First-order system"
   ],
   "metadata": {
    "collapsed": false
   }
  },
  {
   "cell_type": "code",
   "source": [
    "import matplotlib.pyplot as plt\n",
    "import numpy as np"
   ],
   "metadata": {
    "collapsed": false,
    "ExecuteTime": {
     "end_time": "2024-03-07T04:21:20.079401828Z",
     "start_time": "2024-03-07T04:21:19.759224682Z"
    }
   },
   "execution_count": 1,
   "outputs": []
  },
  {
   "cell_type": "code",
   "source": [
    "class tf(object):\n",
    "    def __init__(self, init_state = 0.):\n",
    "        self.time_constant = 0.15\n",
    "        self.state = init_state\n",
    "        self.dt = 1 / 240\n",
    "        self.factor = self.dt / self.time_constant\n",
    "        \n",
    "    def step_response(self):\n",
    "        traj = []\n",
    "        input = 1.\n",
    "        for i in range(240):\n",
    "            self.state = self.factor*(input - self.state) + self.state\n",
    "            traj.append(self.state)\n",
    "        self.traj = traj"
   ],
   "metadata": {
    "collapsed": false,
    "ExecuteTime": {
     "end_time": "2024-03-01T16:20:02.291214Z",
     "start_time": "2024-03-01T16:20:02.284735Z"
    }
   },
   "execution_count": 12,
   "outputs": []
  },
  {
   "cell_type": "code",
   "source": [
    "t = tf()\n",
    "t.step_response()\n",
    "plt.figure(figsize=[10, 10])\n",
    "plt.plot(np.linspace(0, 1, 240), t.traj)"
   ],
   "metadata": {
    "collapsed": false,
    "ExecuteTime": {
     "end_time": "2024-03-01T16:21:33.909459Z",
     "start_time": "2024-03-01T16:21:33.839950Z"
    }
   },
   "execution_count": 18,
   "outputs": []
  },
  {
   "cell_type": "markdown",
   "source": [
    "### Try deque"
   ],
   "metadata": {
    "collapsed": false
   }
  },
  {
   "cell_type": "code",
   "source": [
    "from collections import deque\n",
    "import numpy as np\n",
    "a = deque(maxlen=10)\n",
    "a"
   ],
   "metadata": {
    "collapsed": false,
    "ExecuteTime": {
     "end_time": "2024-03-08T02:21:45.423567Z",
     "start_time": "2024-03-08T02:21:45.420640Z"
    }
   },
   "execution_count": 6,
   "outputs": []
  },
  {
   "cell_type": "code",
   "source": [
    "for i in range(10):\n",
    "    a.append(np.array([i,i,i]))"
   ],
   "metadata": {
    "collapsed": false,
    "ExecuteTime": {
     "end_time": "2024-03-08T02:21:49.065792Z",
     "start_time": "2024-03-08T02:21:49.063561Z"
    }
   },
   "execution_count": 8,
   "outputs": []
  },
  {
   "cell_type": "markdown",
   "source": [
    "a.po"
   ],
   "metadata": {
    "collapsed": false
   }
  },
  {
   "cell_type": "code",
   "source": [
    "a"
   ],
   "metadata": {
    "collapsed": false,
    "ExecuteTime": {
     "end_time": "2024-03-08T02:23:03.215495Z",
     "start_time": "2024-03-08T02:23:03.212533Z"
    }
   },
   "execution_count": 13,
   "outputs": []
  },
  {
   "cell_type": "code",
   "source": [
    "len(a)"
   ],
   "metadata": {
    "collapsed": false,
    "ExecuteTime": {
     "end_time": "2024-03-08T02:24:14.695484Z",
     "start_time": "2024-03-08T02:24:14.693256Z"
    }
   },
   "execution_count": 20,
   "outputs": []
  },
  {
   "cell_type": "code",
   "source": [
    "np.hstack([np.array([1,2,3]), np.array([4,5,6])])"
   ],
   "metadata": {
    "collapsed": false,
    "ExecuteTime": {
     "end_time": "2024-03-02T04:51:10.183048Z",
     "start_time": "2024-03-02T04:51:10.178661Z"
    }
   },
   "execution_count": 13,
   "outputs": []
  }
 ],
 "metadata": {
  "kernelspec": {
   "display_name": "Python 3",
   "language": "python",
   "name": "python3"
  },
  "language_info": {
   "codemirror_mode": {
    "name": "ipython",
    "version": 2
   },
   "file_extension": ".py",
   "mimetype": "text/x-python",
   "name": "python",
   "nbconvert_exporter": "python",
   "pygments_lexer": "ipython2",
   "version": "2.7.6"
  }
 },
 "nbformat": 4,
 "nbformat_minor": 0
}
